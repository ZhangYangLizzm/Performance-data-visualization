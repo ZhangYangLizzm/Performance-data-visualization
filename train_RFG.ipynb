{
 "cells": [
  {
   "cell_type": "code",
   "execution_count": 14,
   "metadata": {},
   "outputs": [
    {
     "name": "stdout",
     "output_type": "stream",
     "text": [
      "<class 'pandas.core.frame.DataFrame'>\n",
      "RangeIndex: 83526 entries, 0 to 83525\n",
      "Data columns (total 38 columns):\n",
      " #   Column                          Non-Null Count  Dtype \n",
      "---  ------                          --------------  ----- \n",
      " 0   component_name                  83526 non-null  object\n",
      " 1   component_version               83526 non-null  object\n",
      " 2   cvm_cpu                         76843 non-null  object\n",
      " 3   cvm_cpu_qos                     21195 non-null  object\n",
      " 4   cvm_cpu_type                    74843 non-null  object\n",
      " 5   cvm_gpu_type                    999 non-null    object\n",
      " 6   cvm_memory                      76815 non-null  object\n",
      " 7   cvm_os_type                     76837 non-null  object\n",
      " 8   cvm_version                     69524 non-null  object\n",
      " 9   host_configured_clock_speed     8189 non-null   object\n",
      " 10  host_cpu_isolation              56 non-null     object\n",
      " 11  host_cpu_isolation:dpdk         2586 non-null   object\n",
      " 12  host_cpu_isolation:host         2586 non-null   object\n",
      " 13  host_cpu_isolation:host:dpdk    9962 non-null   object\n",
      " 14  host_cpu_isolation:host:host    9962 non-null   object\n",
      " 15  host_cpu_isolation:host:spdk    7597 non-null   object\n",
      " 16  host_cpu_isolation:host:vgpu    85 non-null     object\n",
      " 17  host_cpu_isolation:host:vm      7877 non-null   object\n",
      " 18  host_cpu_isolation:spdk         2164 non-null   object\n",
      " 19  host_cpu_isolation:vm           1648 non-null   object\n",
      " 20  host_cpu_isolation:vrdma        70 non-null     object\n",
      " 21  host_cpu_qos                    4 non-null      object\n",
      " 22  host_cpu_type                   22391 non-null  object\n",
      " 23  host_kernel_version             1578 non-null   object\n",
      " 24  host_manufacturer_name          20343 non-null  object\n",
      " 25  host_manufacturer_product_name  4339 non-null   object\n",
      " 26  host_memory_type                22618 non-null  object\n",
      " 27  host_nic_type                   8581 non-null   object\n",
      " 28  host_os_name                    408 non-null    object\n",
      " 29  host_os_version                 6371 non-null   object\n",
      " 30  host_type                       7344 non-null   object\n",
      " 31  host_version                    2 non-null      object\n",
      " 32  kernel_version                  3505 non-null   object\n",
      " 33  platform                        83214 non-null  object\n",
      " 34  test_name                       83526 non-null  object\n",
      " 35  tool_name                       83526 non-null  object\n",
      " 36  tool_version                    83526 non-null  object\n",
      " 37  results_key                     83526 non-null  object\n",
      "dtypes: object(38)\n",
      "memory usage: 24.2+ MB\n"
     ]
    }
   ],
   "source": [
    "import pandas as pd\n",
    "import numpy as np\n",
    "X=pd.read_csv('./stream_Xfinal.csv',dtype=object).iloc[:,1:]\n",
    "X.info()"
   ]
  },
  {
   "cell_type": "code",
   "execution_count": 15,
   "metadata": {},
   "outputs": [
    {
     "name": "stdout",
     "output_type": "stream",
     "text": [
      "<class 'pandas.core.frame.DataFrame'>\n",
      "RangeIndex: 83526 entries, 0 to 83525\n",
      "Data columns (total 12 columns):\n",
      " #   Column             Non-Null Count  Dtype \n",
      "---  ------             --------------  ----- \n",
      " 0   component_name     83526 non-null  object\n",
      " 1   component_version  83526 non-null  object\n",
      " 2   cvm_cpu            76843 non-null  object\n",
      " 3   cvm_cpu_type       74843 non-null  object\n",
      " 4   cvm_memory         76815 non-null  object\n",
      " 5   cvm_os_type        76837 non-null  object\n",
      " 6   cvm_version        69524 non-null  object\n",
      " 7   platform           83214 non-null  object\n",
      " 8   test_name          83526 non-null  object\n",
      " 9   tool_name          83526 non-null  object\n",
      " 10  tool_version       83526 non-null  object\n",
      " 11  results_key        83526 non-null  object\n",
      "dtypes: object(12)\n",
      "memory usage: 7.6+ MB\n"
     ]
    }
   ],
   "source": [
    "# 舍弃阈值\n",
    "threshold=len(X)*0.5\n",
    "delete_column=[]\n",
    "for column in X.columns:\n",
    "    if(X[column].count()<threshold):\n",
    "        delete_column.append(column)\n",
    "X.drop(columns=delete_column,inplace=True)\n",
    "X.info()"
   ]
  },
  {
   "cell_type": "code",
   "execution_count": 16,
   "metadata": {},
   "outputs": [
    {
     "name": "stdout",
     "output_type": "stream",
     "text": [
      "<class 'pandas.core.frame.DataFrame'>\n",
      "Int64Index: 18435 entries, 1 to 83525\n",
      "Data columns (total 12 columns):\n",
      " #   Column             Non-Null Count  Dtype \n",
      "---  ------             --------------  ----- \n",
      " 0   component_name     18435 non-null  object\n",
      " 1   component_version  18435 non-null  object\n",
      " 2   cvm_cpu            18099 non-null  object\n",
      " 3   cvm_cpu_type       16511 non-null  object\n",
      " 4   cvm_memory         18085 non-null  object\n",
      " 5   cvm_os_type        18050 non-null  object\n",
      " 6   cvm_version        15512 non-null  object\n",
      " 7   platform           18338 non-null  object\n",
      " 8   test_name          18435 non-null  object\n",
      " 9   tool_name          18435 non-null  object\n",
      " 10  tool_version       18435 non-null  object\n",
      " 11  results_key        18435 non-null  object\n",
      "dtypes: object(12)\n",
      "memory usage: 1.8+ MB\n"
     ]
    }
   ],
   "source": [
    "#相同配置取最后一项，这是由于数据有时序性，且发现数据集中较早测的有严重偏差\n",
    "X=X.drop_duplicates(keep='last')\n",
    "X.info()"
   ]
  },
  {
   "cell_type": "code",
   "execution_count": 17,
   "metadata": {},
   "outputs": [],
   "source": [
    "X=X[[\"cvm_cpu\",\"results_key\",\"cvm_memory\",\"cvm_cpu_type\",\"cvm_os_type\"]]\n",
    "X[\"cvm_cpu\"]=X[\"cvm_cpu\"].fillna(-1)\n",
    "X[\"cvm_memory\"]=X[\"cvm_memory\"].fillna(-1)"
   ]
  },
  {
   "cell_type": "code",
   "execution_count": 18,
   "metadata": {},
   "outputs": [
    {
     "name": "stdout",
     "output_type": "stream",
     "text": [
      "<class 'pandas.core.frame.DataFrame'>\n",
      "Int64Index: 16466 entries, 1 to 83525\n",
      "Data columns (total 5 columns):\n",
      " #   Column        Non-Null Count  Dtype \n",
      "---  ------        --------------  ----- \n",
      " 0   cvm_cpu       16466 non-null  object\n",
      " 1   results_key   16466 non-null  object\n",
      " 2   cvm_memory    16466 non-null  object\n",
      " 3   cvm_cpu_type  16466 non-null  object\n",
      " 4   cvm_os_type   16466 non-null  object\n",
      "dtypes: object(5)\n",
      "memory usage: 771.8+ KB\n"
     ]
    }
   ],
   "source": [
    "for i in range(len(X)):\n",
    "    index=X.index[i]\n",
    "    try:\n",
    "        X[\"cvm_memory\"][index]=X[\"cvm_memory\"][index].split(\" \")[0]\n",
    "    except:\n",
    "        continue\n",
    "X.dropna(inplace=True)\n",
    "X.info()"
   ]
  },
  {
   "cell_type": "code",
   "execution_count": 19,
   "metadata": {},
   "outputs": [
    {
     "name": "stdout",
     "output_type": "stream",
     "text": [
      "<class 'pandas.core.frame.DataFrame'>\n",
      "Int64Index: 16466 entries, 1 to 83525\n",
      "Columns: 202 entries, cvm_cpu to cvm_os_type_tlinux\n",
      "dtypes: int32(2), uint8(200)\n",
      "memory usage: 3.4 MB\n"
     ]
    }
   ],
   "source": [
    "X[[\"cvm_cpu\",\"cvm_memory\"]]=X[[\"cvm_cpu\",\"cvm_memory\"]].astype(int)\n",
    "X_encode=pd.get_dummies(X)\n",
    "X_encode.info()"
   ]
  },
  {
   "cell_type": "code",
   "execution_count": 20,
   "metadata": {},
   "outputs": [
    {
     "name": "stdout",
     "output_type": "stream",
     "text": [
      "<class 'pandas.core.frame.DataFrame'>\n",
      "Int64Index: 16466 entries, 1 to 83525\n",
      "Data columns (total 26 columns):\n",
      " #   Column              Non-Null Count  Dtype  \n",
      "---  ------              --------------  -----  \n",
      " 0   #stream_add         1513 non-null   float64\n",
      " 1   #stream_copy        15366 non-null  float64\n",
      " 2   #stream_copy_m      2 non-null      float64\n",
      " 3   #stream_copy_numa   0 non-null      float64\n",
      " 4   #stream_ht1_copy    982 non-null    float64\n",
      " 5   #stream_ht1_triad   982 non-null    float64\n",
      " 6   #stream_ht2_copy    982 non-null    float64\n",
      " 7   #stream_ht2_triad   982 non-null    float64\n",
      " 8   #stream_scale       1513 non-null   float64\n",
      " 9   #stream_triad       15366 non-null  float64\n",
      " 10  #stream_triad_m     2 non-null      float64\n",
      " 11  #stream_triad_numa  0 non-null      float64\n",
      " 12  stream_add          13662 non-null  float64\n",
      " 13  stream_add_m        2 non-null      float64\n",
      " 14  stream_add_numa     0 non-null      float64\n",
      " 15  stream_ht1_add      982 non-null    float64\n",
      " 16  stream_ht1_copy     0 non-null      float64\n",
      " 17  stream_ht1_scale    982 non-null    float64\n",
      " 18  stream_ht1_triad    0 non-null      float64\n",
      " 19  stream_ht2_add      982 non-null    float64\n",
      " 20  stream_ht2_copy     0 non-null      float64\n",
      " 21  stream_ht2_scale    982 non-null    float64\n",
      " 22  stream_ht2_triad    0 non-null      float64\n",
      " 23  stream_scale        13662 non-null  float64\n",
      " 24  stream_scale_m      2 non-null      float64\n",
      " 25  stream_scale_numa   0 non-null      float64\n",
      "dtypes: float64(26)\n",
      "memory usage: 3.4 MB\n"
     ]
    }
   ],
   "source": [
    "y_final=pd.read_csv('./stream_yfinal.csv').iloc[:,1:]\n",
    "y_final=y_final.iloc[X.index]\n",
    "y_final.info()"
   ]
  },
  {
   "cell_type": "code",
   "execution_count": 21,
   "metadata": {},
   "outputs": [
    {
     "data": {
      "text/plain": [
       "#stream_add            True\n",
       "#stream_copy          False\n",
       "#stream_copy_m         True\n",
       "#stream_copy_numa      True\n",
       "#stream_ht1_copy       True\n",
       "#stream_ht1_triad      True\n",
       "#stream_ht2_copy       True\n",
       "#stream_ht2_triad      True\n",
       "#stream_scale          True\n",
       "#stream_triad         False\n",
       "#stream_triad_m        True\n",
       "#stream_triad_numa     True\n",
       "stream_add            False\n",
       "stream_add_m           True\n",
       "stream_add_numa        True\n",
       "stream_ht1_add         True\n",
       "stream_ht1_copy        True\n",
       "stream_ht1_scale       True\n",
       "stream_ht1_triad       True\n",
       "stream_ht2_add         True\n",
       "stream_ht2_copy        True\n",
       "stream_ht2_scale       True\n",
       "stream_ht2_triad       True\n",
       "stream_scale          False\n",
       "stream_scale_m         True\n",
       "stream_scale_numa      True\n",
       "dtype: bool"
      ]
     },
     "execution_count": 21,
     "metadata": {},
     "output_type": "execute_result"
    }
   ],
   "source": [
    "threshold = len(y_final) * 0.5\n",
    "delete_column = y_final.apply(lambda x: x.count() < threshold, axis=0)\n",
    "y_final.drop(columns=y_final.columns[delete_column], inplace=True)\n",
    "delete_column"
   ]
  },
  {
   "cell_type": "code",
   "execution_count": 22,
   "metadata": {},
   "outputs": [
    {
     "name": "stdout",
     "output_type": "stream",
     "text": [
      "<class 'pandas.core.frame.DataFrame'>\n",
      "Int64Index: 16466 entries, 1 to 83525\n",
      "Data columns (total 4 columns):\n",
      " #   Column         Non-Null Count  Dtype  \n",
      "---  ------         --------------  -----  \n",
      " 0   #stream_copy   16466 non-null  float64\n",
      " 1   #stream_triad  16466 non-null  float64\n",
      " 2   stream_add     16466 non-null  float64\n",
      " 3   stream_scale   16466 non-null  float64\n",
      "dtypes: float64(4)\n",
      "memory usage: 643.2 KB\n"
     ]
    }
   ],
   "source": [
    "for column in y_final:\n",
    "    y_final[column].fillna(y_final[column].mean(),inplace=True)\n",
    "y_final.info()\n"
   ]
  },
  {
   "cell_type": "code",
   "execution_count": 23,
   "metadata": {},
   "outputs": [],
   "source": [
    "from sklearn.model_selection import train_test_split,cross_val_score\n",
    "X_train, X_test, y_train, y_test = train_test_split(X_encode, y_final, test_size=0.2, random_state=1)"
   ]
  },
  {
   "cell_type": "code",
   "execution_count": 24,
   "metadata": {},
   "outputs": [
    {
     "name": "stdout",
     "output_type": "stream",
     "text": [
      "best_params: {'max_depth': 45}\n",
      "Best max_depth value: 45\n"
     ]
    }
   ],
   "source": [
    "# 导入随机森林回归模型和网格搜索模块\n",
    "from sklearn.ensemble import RandomForestRegressor\n",
    "from sklearn.model_selection import GridSearchCV\n",
    "\n",
    "# 定义要搜索的参数范围\n",
    "param_grid = {'max_depth': range(10, 50, 5)}\n",
    "\n",
    "# 创建随机森林回归模型\n",
    "rfg = RandomForestRegressor(random_state=42)\n",
    "\n",
    "# 定义网格搜索模型\n",
    "grid_search = GridSearchCV(rfg, param_grid=param_grid, cv=5, n_jobs=-1, scoring='r2')\n",
    "\n",
    "# 在训练集上拟合模型\n",
    "grid_search.fit(X_train, y_train)\n",
    "\n",
    "# 输出最佳超参数\n",
    "best_params = grid_search.best_params_\n",
    "print(\"best_params:\", best_params)\n",
    "\n",
    "# 获取最佳模型\n",
    "best_model = grid_search.best_estimator_\n",
    "\n",
    "# 使用最佳模型进行预测\n",
    "y_pred = best_model.predict(X_test)\n",
    "\n",
    "# 输出最佳深度\n",
    "print(\"Best max_depth value: {}\".format(best_model.max_depth))"
   ]
  },
  {
   "cell_type": "code",
   "execution_count": 25,
   "metadata": {},
   "outputs": [
    {
     "name": "stdout",
     "output_type": "stream",
     "text": [
      "r2_score 0.9420640092049313\n"
     ]
    }
   ],
   "source": [
    "from sklearn.metrics import r2_score,mean_squared_error,mean_absolute_error\n",
    "r2=r2_score(y_test,y_pred)\n",
    "print(\"r2_score\",r2)"
   ]
  },
  {
   "cell_type": "code",
   "execution_count": 26,
   "metadata": {},
   "outputs": [
    {
     "name": "stdout",
     "output_type": "stream",
     "text": [
      "Max_depth = 15: R2 score = 0.915, RMSE = 13703.344, MAE = 8015.478\n",
      "Max_depth = 25: R2 score = 0.935, RMSE = 12000.532, MAE = 5571.979\n",
      "Max_depth = 35: R2 score = 0.940, RMSE = 11455.912, MAE = 4549.901\n",
      "Max_depth = 45: R2 score = 0.942, RMSE = 11308.502, MAE = 4260.918\n"
     ]
    }
   ],
   "source": [
    "# 定义多个max_depth值\n",
    "max_depths = [15,25,35,45]\n",
    "\n",
    "# 创建随机森林回归模型，并拟合数据\n",
    "models = []\n",
    "for max_depth in max_depths:\n",
    "    model = RandomForestRegressor(n_estimators=100, max_depth=max_depth, random_state=42,n_jobs=-1)\n",
    "    model.fit(X_train, y_train)\n",
    "    models.append(model)\n",
    "\n",
    "# 计算每个模型的R2和RMSE评分\n",
    "r2_scores = []\n",
    "rmses = []\n",
    "maes = []\n",
    "for model in models:\n",
    "    y_pred = model.predict(X_test)\n",
    "    r2 = r2_score(y_test, y_pred)\n",
    "    rmse = mean_squared_error(y_test, y_pred, squared=False)\n",
    "    mae=mean_absolute_error(y_test,y_pred)\n",
    "    r2_scores.append(r2)\n",
    "    rmses.append(rmse)\n",
    "    maes.append(mae)\n",
    "    \n",
    "# 输出结果\n",
    "for i in range(len(max_depths)):\n",
    "    print(\"Max_depth = {}: R2 score = {:.3f}, RMSE = {:.3f}, MAE = {:.3f}\".format(max_depths[i], r2_scores[i], rmses[i],maes[i]))"
   ]
  }
 ],
 "metadata": {
  "kernelspec": {
   "display_name": ".venv",
   "language": "python",
   "name": "python3"
  },
  "language_info": {
   "codemirror_mode": {
    "name": "ipython",
    "version": 3
   },
   "file_extension": ".py",
   "mimetype": "text/x-python",
   "name": "python",
   "nbconvert_exporter": "python",
   "pygments_lexer": "ipython3",
   "version": "3.9.13"
  },
  "orig_nbformat": 4
 },
 "nbformat": 4,
 "nbformat_minor": 2
}
