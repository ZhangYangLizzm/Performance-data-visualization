{
 "cells": [
  {
   "cell_type": "code",
   "execution_count": 1,
   "metadata": {},
   "outputs": [],
   "source": [
    "import pandas as pd \n",
    "import numpy as np\n",
    "import json \n",
    "import sys\n",
    "sys.path.append('..')\n",
    "from utils import *\n"
   ]
  },
  {
   "cell_type": "code",
   "execution_count": 2,
   "metadata": {},
   "outputs": [
    {
     "name": "stdout",
     "output_type": "stream",
     "text": [
      "<class 'pandas.core.frame.DataFrame'>\n",
      "RangeIndex: 647974 entries, 0 to 647973\n",
      "Data columns (total 7 columns):\n",
      " #   Column       Non-Null Count   Dtype \n",
      "---  ------       --------------   ----- \n",
      " 0   id           647974 non-null  object\n",
      " 1   results_key  647974 non-null  object\n",
      " 2   results      647974 non-null  object\n",
      " 3   scenes_id    647974 non-null  object\n",
      " 4   dimension    647974 non-null  object\n",
      " 5   report_id    539425 non-null  object\n",
      " 6   modified     647974 non-null  object\n",
      "dtypes: object(7)\n",
      "memory usage: 34.6+ MB\n"
     ]
    }
   ],
   "source": [
    "key_test_t=read_key_test_t('../DataInput/key_test_t.csv')\n",
    "key_test_t.info()"
   ]
  },
  {
   "cell_type": "code",
   "execution_count": 3,
   "metadata": {},
   "outputs": [
    {
     "name": "stdout",
     "output_type": "stream",
     "text": [
      "<class 'pandas.core.frame.DataFrame'>\n",
      "RangeIndex: 14094 entries, 0 to 14093\n",
      "Data columns (total 7 columns):\n",
      " #   Column       Non-Null Count  Dtype \n",
      "---  ------       --------------  ----- \n",
      " 0   id           14094 non-null  object\n",
      " 1   results_key  14094 non-null  object\n",
      " 2   results      14094 non-null  object\n",
      " 3   scenes_id    14094 non-null  object\n",
      " 4   dimension    14094 non-null  object\n",
      " 5   report_id    13553 non-null  object\n",
      " 6   modified     14094 non-null  object\n",
      "dtypes: object(7)\n",
      "memory usage: 770.9+ KB\n"
     ]
    }
   ],
   "source": [
    "nginx_wrk=find_by_toolname_and_dropduplicates(key_test_t,\"nginx_wrk\")\n",
    "nginx_wrk.info()"
   ]
  },
  {
   "cell_type": "code",
   "execution_count": 4,
   "metadata": {},
   "outputs": [],
   "source": [
    "error_index=[]\n",
    "for i in range(len(nginx_wrk)):\n",
    "    result=nginx_wrk[\"results\"][i]\n",
    "    parse_result=json.loads(result)\n",
    "    if(\"wrk_errors_str\" in parse_result):\n",
    "        error_index.append(i)\n",
    "\n",
    "nginx_final=nginx_wrk.drop(index=error_index)\n"
   ]
  },
  {
   "cell_type": "code",
   "execution_count": 5,
   "metadata": {},
   "outputs": [
    {
     "name": "stdout",
     "output_type": "stream",
     "text": [
      "<class 'pandas.core.frame.DataFrame'>\n",
      "RangeIndex: 7692 entries, 0 to 7691\n",
      "Data columns (total 8 columns):\n",
      " #   Column                       Non-Null Count  Dtype  \n",
      "---  ------                       --------------  -----  \n",
      " 0   #wrk_qps_avg                 7691 non-null   float64\n",
      " 1   #wrk_req_sec_avg             1 non-null      float64\n",
      " 2   wrk_distribution_90          360 non-null    float64\n",
      " 3   wrk_latency_avg              7692 non-null   float64\n",
      " 4   wrk_latency_distribution_90  7332 non-null   float64\n",
      " 5   wrk_latency_max              7692 non-null   float64\n",
      " 6   wrk_latency_stdev            7692 non-null   float64\n",
      " 7   wrk_transfer_sec             7691 non-null   float64\n",
      "dtypes: float64(8)\n",
      "memory usage: 480.9 KB\n"
     ]
    }
   ],
   "source": [
    "nginx_yfinal=get_yfinal(nginx_final)\n",
    "nginx_yfinal.to_csv('nginx_yfinal.csv')\n",
    "nginx_yfinal.info()"
   ]
  },
  {
   "cell_type": "code",
   "execution_count": 6,
   "metadata": {},
   "outputs": [],
   "source": [
    "nginx_Xfinal=get_Xfinal_df(\"../DataInput/key_name.csv\",nginx_final[\"dimension\"],nginx_final[\"results_key\"])"
   ]
  },
  {
   "cell_type": "code",
   "execution_count": 7,
   "metadata": {},
   "outputs": [
    {
     "name": "stdout",
     "output_type": "stream",
     "text": [
      "<class 'pandas.core.frame.DataFrame'>\n",
      "RangeIndex: 7692 entries, 0 to 7691\n",
      "Data columns (total 46 columns):\n",
      " #   Column                          Non-Null Count  Dtype  \n",
      "---  ------                          --------------  -----  \n",
      " 0   component_name                  7692 non-null   object \n",
      " 1   component_version               7692 non-null   object \n",
      " 2   cpu_limit                       612 non-null    float64\n",
      " 3   cvm_cpu                         7015 non-null   object \n",
      " 4   cvm_cpu_qos                     4950 non-null   object \n",
      " 5   cvm_cpu_type                    6533 non-null   object \n",
      " 6   cvm_gpu_type                    108 non-null    object \n",
      " 7   cvm_memory                      7015 non-null   object \n",
      " 8   cvm_os_type                     7002 non-null   object \n",
      " 9   cvm_version                     6412 non-null   object \n",
      " 10  host_configured_clock_speed     249 non-null    object \n",
      " 11  host_cpu_isolation:dpdk         1098 non-null   object \n",
      " 12  host_cpu_isolation:host         1098 non-null   object \n",
      " 13  host_cpu_isolation:host:dpdk    2338 non-null   object \n",
      " 14  host_cpu_isolation:host:host    2338 non-null   object \n",
      " 15  host_cpu_isolation:host:spdk    2172 non-null   object \n",
      " 16  host_cpu_isolation:host:vgpu    17 non-null     object \n",
      " 17  host_cpu_isolation:host:vm      2323 non-null   object \n",
      " 18  host_cpu_isolation:spdk         940 non-null    object \n",
      " 19  host_cpu_isolation:vm           1098 non-null   object \n",
      " 20  host_cpu_isolation:vrdma        22 non-null     object \n",
      " 21  host_cpu_type                   3850 non-null   object \n",
      " 22  host_kernel_version             604 non-null    object \n",
      " 23  host_manufacturer_name          3905 non-null   object \n",
      " 24  host_manufacturer_product_name  8 non-null      object \n",
      " 25  host_memory_type                3905 non-null   object \n",
      " 26  host_nic_type                   245 non-null    object \n",
      " 27  host_os_version                 8 non-null      object \n",
      " 28  host_type                       257 non-null    object \n",
      " 29  k8s_version                     444 non-null    object \n",
      " 30  kernel_version                  1095 non-null   object \n",
      " 31  mem_limit_mb                    612 non-null    float64\n",
      " 32  netPluginType                   612 non-null    object \n",
      " 33  node_cpu                        444 non-null    object \n",
      " 34  node_memory                     441 non-null    object \n",
      " 35  node_nums                       444 non-null    float64\n",
      " 36  node_os_kernel                  444 non-null    object \n",
      " 37  node_os_name                    444 non-null    object \n",
      " 38  platform                        7023 non-null   object \n",
      " 39  runtime                         444 non-null    object \n",
      " 40  runtime_version                 428 non-null    object \n",
      " 41  test_name                       7692 non-null   object \n",
      " 42  tke_cvm_sold_type               590 non-null    object \n",
      " 43  tool_name                       7692 non-null   object \n",
      " 44  tool_version                    7692 non-null   object \n",
      " 45  results_key                     7692 non-null   object \n",
      "dtypes: float64(3), object(43)\n",
      "memory usage: 2.7+ MB\n"
     ]
    }
   ],
   "source": [
    "nginx_Xfinal.info()"
   ]
  }
 ],
 "metadata": {
  "kernelspec": {
   "display_name": "Python 3 (ipykernel)",
   "language": "python",
   "name": "python3"
  },
  "language_info": {
   "codemirror_mode": {
    "name": "ipython",
    "version": 3
   },
   "file_extension": ".py",
   "mimetype": "text/x-python",
   "name": "python",
   "nbconvert_exporter": "python",
   "pygments_lexer": "ipython3",
   "version": "3.9.13"
  }
 },
 "nbformat": 4,
 "nbformat_minor": 2
}
