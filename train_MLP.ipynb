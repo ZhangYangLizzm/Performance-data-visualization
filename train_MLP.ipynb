{
 "cells": [
  {
   "cell_type": "code",
   "execution_count": 31,
   "metadata": {},
   "outputs": [
    {
     "name": "stdout",
     "output_type": "stream",
     "text": [
      "<class 'pandas.core.frame.DataFrame'>\n",
      "RangeIndex: 83526 entries, 0 to 83525\n",
      "Data columns (total 38 columns):\n",
      " #   Column                          Non-Null Count  Dtype \n",
      "---  ------                          --------------  ----- \n",
      " 0   component_name                  83526 non-null  object\n",
      " 1   component_version               83526 non-null  object\n",
      " 2   cvm_cpu                         76843 non-null  object\n",
      " 3   cvm_cpu_qos                     21195 non-null  object\n",
      " 4   cvm_cpu_type                    74843 non-null  object\n",
      " 5   cvm_gpu_type                    999 non-null    object\n",
      " 6   cvm_memory                      76815 non-null  object\n",
      " 7   cvm_os_type                     76837 non-null  object\n",
      " 8   cvm_version                     69524 non-null  object\n",
      " 9   host_configured_clock_speed     8189 non-null   object\n",
      " 10  host_cpu_isolation              56 non-null     object\n",
      " 11  host_cpu_isolation:dpdk         2586 non-null   object\n",
      " 12  host_cpu_isolation:host         2586 non-null   object\n",
      " 13  host_cpu_isolation:host:dpdk    9962 non-null   object\n",
      " 14  host_cpu_isolation:host:host    9962 non-null   object\n",
      " 15  host_cpu_isolation:host:spdk    7597 non-null   object\n",
      " 16  host_cpu_isolation:host:vgpu    85 non-null     object\n",
      " 17  host_cpu_isolation:host:vm      7877 non-null   object\n",
      " 18  host_cpu_isolation:spdk         2164 non-null   object\n",
      " 19  host_cpu_isolation:vm           1648 non-null   object\n",
      " 20  host_cpu_isolation:vrdma        70 non-null     object\n",
      " 21  host_cpu_qos                    4 non-null      object\n",
      " 22  host_cpu_type                   22391 non-null  object\n",
      " 23  host_kernel_version             1578 non-null   object\n",
      " 24  host_manufacturer_name          20343 non-null  object\n",
      " 25  host_manufacturer_product_name  4339 non-null   object\n",
      " 26  host_memory_type                22618 non-null  object\n",
      " 27  host_nic_type                   8581 non-null   object\n",
      " 28  host_os_name                    408 non-null    object\n",
      " 29  host_os_version                 6371 non-null   object\n",
      " 30  host_type                       7344 non-null   object\n",
      " 31  host_version                    2 non-null      object\n",
      " 32  kernel_version                  3505 non-null   object\n",
      " 33  platform                        83214 non-null  object\n",
      " 34  test_name                       83526 non-null  object\n",
      " 35  tool_name                       83526 non-null  object\n",
      " 36  tool_version                    83526 non-null  object\n",
      " 37  results_key                     83526 non-null  object\n",
      "dtypes: object(38)\n",
      "memory usage: 24.2+ MB\n"
     ]
    }
   ],
   "source": [
    "import pandas as pd\n",
    "import numpy as np\n",
    "X=pd.read_csv('./stream_Xfinal.csv',dtype=object).iloc[:,1:]\n",
    "X.info()"
   ]
  },
  {
   "cell_type": "code",
   "execution_count": 32,
   "metadata": {},
   "outputs": [
    {
     "data": {
      "text/plain": [
       "Index(['component_name', 'component_version', 'cvm_cpu', 'cvm_cpu_qos',\n",
       "       'cvm_cpu_type', 'cvm_gpu_type', 'cvm_memory', 'cvm_os_type',\n",
       "       'cvm_version', 'host_configured_clock_speed', 'host_cpu_isolation',\n",
       "       'host_cpu_isolation:dpdk', 'host_cpu_isolation:host',\n",
       "       'host_cpu_isolation:host:dpdk', 'host_cpu_isolation:host:host',\n",
       "       'host_cpu_isolation:host:spdk', 'host_cpu_isolation:host:vgpu',\n",
       "       'host_cpu_isolation:host:vm', 'host_cpu_isolation:spdk',\n",
       "       'host_cpu_isolation:vm', 'host_cpu_isolation:vrdma', 'host_cpu_qos',\n",
       "       'host_cpu_type', 'host_kernel_version', 'host_manufacturer_name',\n",
       "       'host_manufacturer_product_name', 'host_memory_type', 'host_nic_type',\n",
       "       'host_os_name', 'host_os_version', 'host_type', 'host_version',\n",
       "       'kernel_version', 'platform', 'test_name', 'tool_name', 'tool_version',\n",
       "       'results_key'],\n",
       "      dtype='object')"
      ]
     },
     "execution_count": 32,
     "metadata": {},
     "output_type": "execute_result"
    }
   ],
   "source": [
    "X.columns"
   ]
  },
  {
   "cell_type": "code",
   "execution_count": 33,
   "metadata": {},
   "outputs": [
    {
     "name": "stdout",
     "output_type": "stream",
     "text": [
      "<class 'pandas.core.frame.DataFrame'>\n",
      "RangeIndex: 83526 entries, 0 to 83525\n",
      "Data columns (total 12 columns):\n",
      " #   Column             Non-Null Count  Dtype \n",
      "---  ------             --------------  ----- \n",
      " 0   component_name     83526 non-null  object\n",
      " 1   component_version  83526 non-null  object\n",
      " 2   cvm_cpu            76843 non-null  object\n",
      " 3   cvm_cpu_type       74843 non-null  object\n",
      " 4   cvm_memory         76815 non-null  object\n",
      " 5   cvm_os_type        76837 non-null  object\n",
      " 6   cvm_version        69524 non-null  object\n",
      " 7   platform           83214 non-null  object\n",
      " 8   test_name          83526 non-null  object\n",
      " 9   tool_name          83526 non-null  object\n",
      " 10  tool_version       83526 non-null  object\n",
      " 11  results_key        83526 non-null  object\n",
      "dtypes: object(12)\n",
      "memory usage: 7.6+ MB\n"
     ]
    }
   ],
   "source": [
    "# 舍弃阈值\n",
    "threshold=len(X)*0.5\n",
    "delete_column=[]\n",
    "for column in X.columns:\n",
    "    if(X[column].count()<threshold):\n",
    "        delete_column.append(column)\n",
    "X.drop(columns=delete_column,inplace=True)\n",
    "X.info()"
   ]
  },
  {
   "cell_type": "code",
   "execution_count": 34,
   "metadata": {},
   "outputs": [
    {
     "name": "stdout",
     "output_type": "stream",
     "text": [
      "<class 'pandas.core.frame.DataFrame'>\n",
      "Int64Index: 18435 entries, 1 to 83525\n",
      "Data columns (total 12 columns):\n",
      " #   Column             Non-Null Count  Dtype \n",
      "---  ------             --------------  ----- \n",
      " 0   component_name     18435 non-null  object\n",
      " 1   component_version  18435 non-null  object\n",
      " 2   cvm_cpu            18099 non-null  object\n",
      " 3   cvm_cpu_type       16511 non-null  object\n",
      " 4   cvm_memory         18085 non-null  object\n",
      " 5   cvm_os_type        18050 non-null  object\n",
      " 6   cvm_version        15512 non-null  object\n",
      " 7   platform           18338 non-null  object\n",
      " 8   test_name          18435 non-null  object\n",
      " 9   tool_name          18435 non-null  object\n",
      " 10  tool_version       18435 non-null  object\n",
      " 11  results_key        18435 non-null  object\n",
      "dtypes: object(12)\n",
      "memory usage: 1.8+ MB\n"
     ]
    }
   ],
   "source": [
    "#相同配置取最后一项，这是由于数据有时序性，且发现数据集中较早测的有严重偏差\n",
    "X=X.drop_duplicates(keep='last')\n",
    "X.info()"
   ]
  },
  {
   "cell_type": "code",
   "execution_count": 35,
   "metadata": {},
   "outputs": [
    {
     "name": "stdout",
     "output_type": "stream",
     "text": [
      "<class 'pandas.core.frame.DataFrame'>\n",
      "Int64Index: 18435 entries, 1 to 83525\n",
      "Data columns (total 12 columns):\n",
      " #   Column             Non-Null Count  Dtype \n",
      "---  ------             --------------  ----- \n",
      " 0   component_name     18435 non-null  object\n",
      " 1   component_version  18435 non-null  object\n",
      " 2   cvm_cpu            18099 non-null  object\n",
      " 3   cvm_cpu_type       16511 non-null  object\n",
      " 4   cvm_memory         18085 non-null  object\n",
      " 5   cvm_os_type        18050 non-null  object\n",
      " 6   cvm_version        15512 non-null  object\n",
      " 7   platform           18338 non-null  object\n",
      " 8   test_name          18435 non-null  object\n",
      " 9   tool_name          18435 non-null  object\n",
      " 10  tool_version       18435 non-null  object\n",
      " 11  results_key        18435 non-null  object\n",
      "dtypes: object(12)\n",
      "memory usage: 1.8+ MB\n"
     ]
    }
   ],
   "source": [
    "#相同配置取最后一项，这是由于数据有时序性，且发现数据集中较早测的有严重偏差\n",
    "X=X.drop_duplicates(keep='last')\n",
    "X.info()"
   ]
  },
  {
   "cell_type": "code",
   "execution_count": 36,
   "metadata": {},
   "outputs": [],
   "source": [
    "X=X[[\"cvm_cpu\",\"results_key\",\"cvm_memory\",\"cvm_cpu_type\",\"cvm_os_type\"]]\n",
    "X[\"cvm_cpu\"]=X[\"cvm_cpu\"].fillna(-1)\n",
    "X[\"cvm_memory\"]=X[\"cvm_memory\"].fillna(-1)"
   ]
  },
  {
   "cell_type": "code",
   "execution_count": 37,
   "metadata": {},
   "outputs": [
    {
     "name": "stdout",
     "output_type": "stream",
     "text": [
      "<class 'pandas.core.frame.DataFrame'>\n",
      "Int64Index: 18435 entries, 1 to 83525\n",
      "Data columns (total 5 columns):\n",
      " #   Column        Non-Null Count  Dtype \n",
      "---  ------        --------------  ----- \n",
      " 0   cvm_cpu       18435 non-null  object\n",
      " 1   results_key   18435 non-null  object\n",
      " 2   cvm_memory    18435 non-null  object\n",
      " 3   cvm_cpu_type  16511 non-null  object\n",
      " 4   cvm_os_type   18050 non-null  object\n",
      "dtypes: object(5)\n",
      "memory usage: 1.3+ MB\n"
     ]
    }
   ],
   "source": [
    "for i in range(len(X)):\n",
    "    index=X.index[i]\n",
    "    try:\n",
    "        X[\"cvm_memory\"][index]=X[\"cvm_memory\"][index].split(\" \")[0]\n",
    "    except:\n",
    "        continue\n",
    "X.info()"
   ]
  },
  {
   "cell_type": "code",
   "execution_count": 38,
   "metadata": {},
   "outputs": [
    {
     "name": "stdout",
     "output_type": "stream",
     "text": [
      "<class 'pandas.core.frame.DataFrame'>\n",
      "Int64Index: 18435 entries, 1 to 83525\n",
      "Columns: 211 entries, cvm_cpu to cvm_os_type_tlinux\n",
      "dtypes: int32(2), uint8(209)\n",
      "memory usage: 4.5 MB\n"
     ]
    }
   ],
   "source": [
    "X[[\"cvm_cpu\",\"cvm_memory\"]]=X[[\"cvm_cpu\",\"cvm_memory\"]].astype(int)\n",
    "X_encode=pd.get_dummies(X)\n",
    "X_encode.info()"
   ]
  },
  {
   "cell_type": "code",
   "execution_count": 39,
   "metadata": {},
   "outputs": [
    {
     "name": "stdout",
     "output_type": "stream",
     "text": [
      "<class 'pandas.core.frame.DataFrame'>\n",
      "Int64Index: 18435 entries, 1 to 83525\n",
      "Data columns (total 26 columns):\n",
      " #   Column              Non-Null Count  Dtype  \n",
      "---  ------              --------------  -----  \n",
      " 0   #stream_add         1515 non-null   float64\n",
      " 1   #stream_copy        17273 non-null  float64\n",
      " 2   #stream_copy_m      3 non-null      float64\n",
      " 3   #stream_copy_numa   0 non-null      float64\n",
      " 4   #stream_ht1_copy    1049 non-null   float64\n",
      " 5   #stream_ht1_triad   1049 non-null   float64\n",
      " 6   #stream_ht2_copy    1049 non-null   float64\n",
      " 7   #stream_ht2_triad   1049 non-null   float64\n",
      " 8   #stream_scale       1515 non-null   float64\n",
      " 9   #stream_triad       17273 non-null  float64\n",
      " 10  #stream_triad_m     3 non-null      float64\n",
      " 11  #stream_triad_numa  0 non-null      float64\n",
      " 12  stream_add          15561 non-null  float64\n",
      " 13  stream_add_m        3 non-null      float64\n",
      " 14  stream_add_numa     0 non-null      float64\n",
      " 15  stream_ht1_add      1049 non-null   float64\n",
      " 16  stream_ht1_copy     0 non-null      float64\n",
      " 17  stream_ht1_scale    1049 non-null   float64\n",
      " 18  stream_ht1_triad    0 non-null      float64\n",
      " 19  stream_ht2_add      1049 non-null   float64\n",
      " 20  stream_ht2_copy     0 non-null      float64\n",
      " 21  stream_ht2_scale    1049 non-null   float64\n",
      " 22  stream_ht2_triad    0 non-null      float64\n",
      " 23  stream_scale        15561 non-null  float64\n",
      " 24  stream_scale_m      3 non-null      float64\n",
      " 25  stream_scale_numa   0 non-null      float64\n",
      "dtypes: float64(26)\n",
      "memory usage: 3.8 MB\n"
     ]
    }
   ],
   "source": [
    "y_final=pd.read_csv('./stream_yfinal.csv').iloc[:,1:]\n",
    "y_final=y_final.iloc[X.index]\n",
    "y_final.info()"
   ]
  },
  {
   "cell_type": "code",
   "execution_count": 40,
   "metadata": {},
   "outputs": [
    {
     "data": {
      "text/plain": [
       "#stream_add            True\n",
       "#stream_copy          False\n",
       "#stream_copy_m         True\n",
       "#stream_copy_numa      True\n",
       "#stream_ht1_copy       True\n",
       "#stream_ht1_triad      True\n",
       "#stream_ht2_copy       True\n",
       "#stream_ht2_triad      True\n",
       "#stream_scale          True\n",
       "#stream_triad         False\n",
       "#stream_triad_m        True\n",
       "#stream_triad_numa     True\n",
       "stream_add            False\n",
       "stream_add_m           True\n",
       "stream_add_numa        True\n",
       "stream_ht1_add         True\n",
       "stream_ht1_copy        True\n",
       "stream_ht1_scale       True\n",
       "stream_ht1_triad       True\n",
       "stream_ht2_add         True\n",
       "stream_ht2_copy        True\n",
       "stream_ht2_scale       True\n",
       "stream_ht2_triad       True\n",
       "stream_scale          False\n",
       "stream_scale_m         True\n",
       "stream_scale_numa      True\n",
       "dtype: bool"
      ]
     },
     "execution_count": 40,
     "metadata": {},
     "output_type": "execute_result"
    }
   ],
   "source": [
    "threshold = len(y_final) * 0.5\n",
    "delete_column = y_final.apply(lambda x: x.count() < threshold, axis=0)\n",
    "y_final.drop(columns=y_final.columns[delete_column], inplace=True)\n",
    "delete_column"
   ]
  },
  {
   "cell_type": "code",
   "execution_count": 41,
   "metadata": {},
   "outputs": [
    {
     "name": "stdout",
     "output_type": "stream",
     "text": [
      "<class 'pandas.core.frame.DataFrame'>\n",
      "Int64Index: 18435 entries, 1 to 83525\n",
      "Data columns (total 4 columns):\n",
      " #   Column         Non-Null Count  Dtype  \n",
      "---  ------         --------------  -----  \n",
      " 0   #stream_copy   18435 non-null  float64\n",
      " 1   #stream_triad  18435 non-null  float64\n",
      " 2   stream_add     18435 non-null  float64\n",
      " 3   stream_scale   18435 non-null  float64\n",
      "dtypes: float64(4)\n",
      "memory usage: 720.1 KB\n"
     ]
    }
   ],
   "source": [
    "for column in y_final:\n",
    "    y_final[column].fillna(y_final[column].mean(),inplace=True)\n",
    "y_final.info()\n"
   ]
  },
  {
   "cell_type": "code",
   "execution_count": 42,
   "metadata": {},
   "outputs": [],
   "source": [
    "from sklearn.model_selection import train_test_split,cross_val_score\n",
    "X_train, X_test, y_train, y_test = train_test_split(X_encode, y_final, test_size=0.2, random_state=1)"
   ]
  },
  {
   "cell_type": "code",
   "execution_count": 43,
   "metadata": {},
   "outputs": [],
   "source": [
    "# from sklearn.neural_network import MLPRegressor\n",
    "# from sklearn.model_selection import GridSearchCV\n",
    "# param_grid = {\n",
    "#     'hidden_layer_sizes': [(30, 30),(40, 40),(50,50),(60,60)], \n",
    "# }\n",
    "# mlp=MLPRegressor(activation='relu',max_iter=2000,solver='adam',alpha=0.0001,hidden_layer_sizes=(50,50))\n",
    "# grid_search=GridSearchCV(mlp,param_grid,cv=5,n_jobs=-1)\n",
    "# grid_search.fit(X_train,y_train)\n",
    "# y_pred=grid_search.predict(X_test)\n",
    "# mlp.fit(X_train,y_train)\n",
    "# y_pred=mlp.predict(X_test)\n"
   ]
  },
  {
   "cell_type": "code",
   "execution_count": 48,
   "metadata": {},
   "outputs": [],
   "source": [
    "from sklearn.neural_network import MLPRegressor\n",
    "from sklearn.model_selection import cross_val_predict\n",
    "mlp=MLPRegressor(activation='relu',max_iter=2000,solver='adam',alpha=0.0001,hidden_layer_sizes=(30,30))\n",
    "y_pred_train = cross_val_predict(mlp, X_train, y_train, cv=5)\n",
    "mlp.fit(X_train,y_train)\n",
    "y_pred_test = mlp.predict(X_test)\n"
   ]
  },
  {
   "cell_type": "code",
   "execution_count": 49,
   "metadata": {},
   "outputs": [
    {
     "name": "stdout",
     "output_type": "stream",
     "text": [
      "r2_score 0.9231776163618162\n"
     ]
    }
   ],
   "source": [
    "from sklearn.metrics import r2_score\n",
    "r2=r2_score(y_test,y_pred_test)\n",
    "# print(grid_search.best_params_)\n",
    "print(\"r2_score\",r2)"
   ]
  }
 ],
 "metadata": {
  "kernelspec": {
   "display_name": ".venv",
   "language": "python",
   "name": "python3"
  },
  "language_info": {
   "codemirror_mode": {
    "name": "ipython",
    "version": 3
   },
   "file_extension": ".py",
   "mimetype": "text/x-python",
   "name": "python",
   "nbconvert_exporter": "python",
   "pygments_lexer": "ipython3",
   "version": "3.9.13"
  },
  "orig_nbformat": 4
 },
 "nbformat": 4,
 "nbformat_minor": 2
}
