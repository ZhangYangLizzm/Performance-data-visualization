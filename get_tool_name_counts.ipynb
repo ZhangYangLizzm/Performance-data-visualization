{
 "cells": [
  {
   "cell_type": "code",
   "execution_count": 10,
   "metadata": {},
   "outputs": [
    {
     "name": "stdout",
     "output_type": "stream",
     "text": [
      "<class 'pandas.core.frame.DataFrame'>\n",
      "RangeIndex: 647974 entries, 0 to 647973\n",
      "Data columns (total 23 columns):\n",
      " #   Column          Non-Null Count   Dtype \n",
      "---  ------          --------------   ----- \n",
      " 0   id              647974 non-null  object\n",
      " 1   p_id            647974 non-null  object\n",
      " 2   results_key     647974 non-null  object\n",
      " 3   results         647974 non-null  object\n",
      " 4   run_args        647846 non-null  object\n",
      " 5   results_files   647974 non-null  object\n",
      " 6   process_data    647765 non-null  object\n",
      " 7   baseline        526471 non-null  object\n",
      " 8   scenes_id       647974 non-null  object\n",
      " 9   cost_id         647974 non-null  object\n",
      " 10  log_id          647974 non-null  object\n",
      " 11  dimension       647974 non-null  object\n",
      " 12  task_id         647974 non-null  object\n",
      " 13  run_id          647974 non-null  object\n",
      " 14  task_from       647974 non-null  object\n",
      " 15  plan_id         540317 non-null  object\n",
      " 16  report_id       539425 non-null  object\n",
      " 17  status          647974 non-null  object\n",
      " 18  version         647974 non-null  object\n",
      " 19  created         647974 non-null  object\n",
      " 20  modified        647974 non-null  object\n",
      " 21  resources       619029 non-null  object\n",
      " 22  old_results_id  110614 non-null  object\n",
      "dtypes: object(23)\n",
      "memory usage: 113.7+ MB\n"
     ]
    }
   ],
   "source": [
    "import pandas as pd \n",
    "import numpy as np\n",
    "import json \n",
    "import sys\n",
    "sys.path.append('..')\n",
    "from utils import *\n",
    "key_test_t=pd.read_csv('./DataInput/key_test_t.csv',on_bad_lines='skip',engine='python').iloc[:,1:]\n",
    "key_test_t.info()"
   ]
  },
  {
   "cell_type": "code",
   "execution_count": 11,
   "metadata": {},
   "outputs": [],
   "source": [
    "dimension_tool_name={}\n",
    "for i in range(len(key_test_t)):\n",
    "    dimension=key_test_t[\"dimension\"][i]\n",
    "    try:\n",
    "        parse_dimension=json.loads(dimension)\n",
    "        tool_name=parse_dimension[\"tool_name\"]\n",
    "        if(tool_name in dimension_tool_name):\n",
    "            dimension_tool_name[tool_name]+=1\n",
    "        else:\n",
    "            dimension_tool_name[tool_name]=1\n",
    "    except:\n",
    "        continue\n",
    "\n",
    "dimension_tool_name_counts=[]\n",
    "for key in dimension_tool_name:\n",
    "    dimension_tool_name_counts.append([key,dimension_tool_name[key]])\n",
    "\n",
    "dimension_tool_name_counts\n",
    "pd.DataFrame(data=dimension_tool_name_counts,columns=[\"tool_name\",\"counts\"]).to_csv('tool_name_counts.csv')"
   ]
  }
 ],
 "metadata": {
  "kernelspec": {
   "display_name": ".venv",
   "language": "python",
   "name": "python3"
  },
  "language_info": {
   "codemirror_mode": {
    "name": "ipython",
    "version": 3
   },
   "file_extension": ".py",
   "mimetype": "text/x-python",
   "name": "python",
   "nbconvert_exporter": "python",
   "pygments_lexer": "ipython3",
   "version": "3.9.13"
  },
  "orig_nbformat": 4
 },
 "nbformat": 4,
 "nbformat_minor": 2
}
