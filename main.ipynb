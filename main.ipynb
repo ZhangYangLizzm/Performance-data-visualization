{
 "cells": [
  {
   "cell_type": "code",
   "execution_count": 1,
   "metadata": {},
   "outputs": [],
   "source": [
    "import pandas as pd \n",
    "import numpy as np\n",
    "import json \n",
    "import sys\n",
    "sys.path.append('..')\n",
    "from utils import *"
   ]
  },
  {
   "cell_type": "code",
   "execution_count": 2,
   "metadata": {},
   "outputs": [
    {
     "name": "stdout",
     "output_type": "stream",
     "text": [
      "<class 'pandas.core.frame.DataFrame'>\n",
      "RangeIndex: 647974 entries, 0 to 647973\n",
      "Data columns (total 7 columns):\n",
      " #   Column       Non-Null Count   Dtype \n",
      "---  ------       --------------   ----- \n",
      " 0   id           647974 non-null  object\n",
      " 1   results_key  647974 non-null  object\n",
      " 2   results      647974 non-null  object\n",
      " 3   scenes_id    647974 non-null  object\n",
      " 4   dimension    647974 non-null  object\n",
      " 5   report_id    539425 non-null  object\n",
      " 6   modified     647974 non-null  object\n",
      "dtypes: object(7)\n",
      "memory usage: 34.6+ MB\n"
     ]
    }
   ],
   "source": [
    "key_test_t=read_key_test_t('./DataInput/key_test_t.csv')\n",
    "key_test_t.info()"
   ]
  },
  {
   "cell_type": "code",
   "execution_count": 3,
   "metadata": {},
   "outputs": [],
   "source": [
    "stream_df=find_by_testname_and_dropduplicates(key_test_t,\"stream_baseline\")"
   ]
  },
  {
   "cell_type": "code",
   "execution_count": 4,
   "metadata": {},
   "outputs": [
    {
     "name": "stdout",
     "output_type": "stream",
     "text": [
      "<class 'pandas.core.frame.DataFrame'>\n",
      "RangeIndex: 83526 entries, 0 to 83525\n",
      "Data columns (total 26 columns):\n",
      " #   Column              Non-Null Count  Dtype  \n",
      "---  ------              --------------  -----  \n",
      " 0   #stream_add         3684 non-null   float64\n",
      " 1   #stream_copy        77269 non-null  float64\n",
      " 2   #stream_copy_m      4 non-null      float64\n",
      " 3   #stream_copy_numa   1 non-null      float64\n",
      " 4   #stream_ht1_copy    6015 non-null   float64\n",
      " 5   #stream_ht1_triad   6015 non-null   float64\n",
      " 6   #stream_ht2_copy    6015 non-null   float64\n",
      " 7   #stream_ht2_triad   6015 non-null   float64\n",
      " 8   #stream_scale       3684 non-null   float64\n",
      " 9   #stream_triad       77269 non-null  float64\n",
      " 10  #stream_triad_m     4 non-null      float64\n",
      " 11  #stream_triad_numa  1 non-null      float64\n",
      " 12  stream_add          71702 non-null  float64\n",
      " 13  stream_add_m        4 non-null      float64\n",
      " 14  stream_add_numa     1 non-null      float64\n",
      " 15  stream_ht1_add      6016 non-null   float64\n",
      " 16  stream_ht1_copy     1 non-null      float64\n",
      " 17  stream_ht1_scale    6016 non-null   float64\n",
      " 18  stream_ht1_triad    1 non-null      float64\n",
      " 19  stream_ht2_add      6016 non-null   float64\n",
      " 20  stream_ht2_copy     1 non-null      float64\n",
      " 21  stream_ht2_scale    6016 non-null   float64\n",
      " 22  stream_ht2_triad    1 non-null      float64\n",
      " 23  stream_scale        71702 non-null  float64\n",
      " 24  stream_scale_m      4 non-null      float64\n",
      " 25  stream_scale_numa   1 non-null      float64\n",
      "dtypes: float64(26)\n",
      "memory usage: 16.6 MB\n"
     ]
    }
   ],
   "source": [
    "y_final=get_yfinal(stream_df)\n",
    "y_final.info()\n",
    "y_final.to_csv('stream_yfinal.csv')"
   ]
  },
  {
   "cell_type": "code",
   "execution_count": 9,
   "metadata": {},
   "outputs": [
    {
     "name": "stdout",
     "output_type": "stream",
     "text": [
      "<class 'pandas.core.frame.DataFrame'>\n",
      "RangeIndex: 83526 entries, 0 to 83525\n",
      "Data columns (total 38 columns):\n",
      " #   Column                          Non-Null Count  Dtype \n",
      "---  ------                          --------------  ----- \n",
      " 0   component_name                  83526 non-null  object\n",
      " 1   component_version               83526 non-null  object\n",
      " 2   cvm_cpu                         76843 non-null  object\n",
      " 3   cvm_cpu_qos                     21195 non-null  object\n",
      " 4   cvm_cpu_type                    74843 non-null  object\n",
      " 5   cvm_gpu_type                    999 non-null    object\n",
      " 6   cvm_memory                      76815 non-null  object\n",
      " 7   cvm_os_type                     76861 non-null  object\n",
      " 8   cvm_version                     69524 non-null  object\n",
      " 9   host_configured_clock_speed     8189 non-null   object\n",
      " 10  host_cpu_isolation              56 non-null     object\n",
      " 11  host_cpu_isolation:dpdk         2586 non-null   object\n",
      " 12  host_cpu_isolation:host         2586 non-null   object\n",
      " 13  host_cpu_isolation:host:dpdk    9962 non-null   object\n",
      " 14  host_cpu_isolation:host:host    9962 non-null   object\n",
      " 15  host_cpu_isolation:host:spdk    7597 non-null   object\n",
      " 16  host_cpu_isolation:host:vgpu    85 non-null     object\n",
      " 17  host_cpu_isolation:host:vm      9673 non-null   object\n",
      " 18  host_cpu_isolation:spdk         2164 non-null   object\n",
      " 19  host_cpu_isolation:vm           2586 non-null   object\n",
      " 20  host_cpu_isolation:vrdma        70 non-null     object\n",
      " 21  host_cpu_qos                    4 non-null      object\n",
      " 22  host_cpu_type                   22391 non-null  object\n",
      " 23  host_kernel_version             1578 non-null   object\n",
      " 24  host_manufacturer_name          20343 non-null  object\n",
      " 25  host_manufacturer_product_name  4339 non-null   object\n",
      " 26  host_memory_type                22618 non-null  object\n",
      " 27  host_nic_type                   8581 non-null   object\n",
      " 28  host_os_name                    408 non-null    object\n",
      " 29  host_os_version                 6371 non-null   object\n",
      " 30  host_type                       7344 non-null   object\n",
      " 31  host_version                    2 non-null      object\n",
      " 32  kernel_version                  3505 non-null   object\n",
      " 33  platform                        83214 non-null  object\n",
      " 34  test_name                       83526 non-null  object\n",
      " 35  tool_name                       83526 non-null  object\n",
      " 36  tool_version                    83526 non-null  object\n",
      " 37  results_key                     83526 non-null  object\n",
      "dtypes: object(38)\n",
      "memory usage: 24.2+ MB\n"
     ]
    }
   ],
   "source": [
    "X_final=get_Xfinal_df('./DataInput/key_name.csv',stream_df[\"dimension\"],stream_df[\"results_key\"])\n",
    "X_final.to_csv('stream_Xfinal.csv')\n",
    "X_final.info()"
   ]
  }
 ],
 "metadata": {
  "kernelspec": {
   "display_name": ".venv",
   "language": "python",
   "name": "python3"
  },
  "language_info": {
   "codemirror_mode": {
    "name": "ipython",
    "version": 3
   },
   "file_extension": ".py",
   "mimetype": "text/x-python",
   "name": "python",
   "nbconvert_exporter": "python",
   "pygments_lexer": "ipython3",
   "version": "3.9.13"
  },
  "orig_nbformat": 4
 },
 "nbformat": 4,
 "nbformat_minor": 2
}
